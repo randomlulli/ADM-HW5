{
 "cells": [
  {
   "cell_type": "markdown",
   "metadata": {},
   "source": [
    "# Homework 5\n",
    "\n",
    "## PreProcess"
   ]
  },
  {
   "cell_type": "markdown",
   "metadata": {},
   "source": [
    "**The importation library**"
   ]
  },
  {
   "cell_type": "code",
   "execution_count": 286,
   "metadata": {},
   "outputs": [],
   "source": [
    "import pandas as pd\n",
    "from tqdm import tqdm\n",
    "import networkx as nx\n",
    "import matplotlib.pyplot as plt\n",
    "from collections import defaultdict\n",
    "import numpy as np\n",
    "from queue import Queue"
   ]
  },
  {
   "cell_type": "markdown",
   "metadata": {},
   "source": [
    "**Reading documents**\n",
    "\n",
    "Set the graph with networkx"
   ]
  },
  {
   "cell_type": "code",
   "execution_count": 118,
   "metadata": {},
   "outputs": [],
   "source": [
    "graph = nx.DiGraph()\n",
    "# for each link in links add edge\n",
    "# the weight of edges is 1 (for all)\n",
    "for line in open('wikigraph_reduced.csv', 'r').readlines()[1:]:\n",
    "    nodes = line.replace('\\n', '').split('\\t')\n",
    "    graph.add_edge(int(nodes[1]), int(nodes[2]), weight=1)"
   ]
  },
  {
   "cell_type": "markdown",
   "metadata": {},
   "source": [
    "Set the category dictionary"
   ]
  },
  {
   "cell_type": "code",
   "execution_count": 121,
   "metadata": {},
   "outputs": [],
   "source": [
    "categories = dict()\n",
    "#for each category set the name as key and a list of nodes as article\n",
    "for line in open('wiki-topcats-categories.txt', 'r').readlines():\n",
    "    s = line.index(':')\n",
    "    e = line.index(';')\n",
    "    cat_name = line[s+1 : e].replace('_', ' ')\n",
    "    cat_list = line[e+1:].split()\n",
    "    categories[cat_name] = [int(c) for c in cat_list]"
   ]
  },
  {
   "cell_type": "markdown",
   "metadata": {},
   "source": [
    "Compute the reverse index for categories: for each article a list of categories"
   ]
  },
  {
   "cell_type": "code",
   "execution_count": 123,
   "metadata": {},
   "outputs": [],
   "source": [
    "art_cat = defaultdict(list)\n",
    "for name, values in categories.items():\n",
    "    for value in values:\n",
    "        art_cat[value].append(name)"
   ]
  },
  {
   "cell_type": "markdown",
   "metadata": {},
   "source": [
    "Set a list of pages names: for each index of a list the corrispondent page name (article name)"
   ]
  },
  {
   "cell_type": "code",
   "execution_count": 76,
   "metadata": {},
   "outputs": [],
   "source": [
    "page_names = list()\n",
    "for line in open('wiki-topcats-page-names.txt', 'r').readlines():\n",
    "    i = line.index(' ')\n",
    "    page_names.append(line[i+1:].replace('\\n', ''))"
   ]
  },
  {
   "cell_type": "markdown",
   "metadata": {},
   "source": [
    "compute the inverted_page_names: a dict with names as keys and index as values"
   ]
  },
  {
   "cell_type": "code",
   "execution_count": 281,
   "metadata": {},
   "outputs": [],
   "source": [
    "inverted_page_names = dict()\n",
    "for index, name in enumerate(page_names):\n",
    "    inverted_page_names[name] = index"
   ]
  },
  {
   "cell_type": "markdown",
   "metadata": {},
   "source": [
    "## RQ1\n",
    "\n",
    "G is in the variable _graph_.\n",
    "\n",
    "It is a directed network with all edges with weight equal to 1."
   ]
  },
  {
   "cell_type": "code",
   "execution_count": 79,
   "metadata": {},
   "outputs": [
    {
     "name": "stdout",
     "output_type": "stream",
     "text": [
      "The number of articles (nodes) are 98343\n"
     ]
    }
   ],
   "source": [
    "# Number of articles\n",
    "print(\"The number of articles (nodes) are\", len(graph.nodes))"
   ]
  },
  {
   "cell_type": "code",
   "execution_count": 80,
   "metadata": {},
   "outputs": [
    {
     "name": "stdout",
     "output_type": "stream",
     "text": [
      "The number of hyperlinks (edges) are 483094\n"
     ]
    }
   ],
   "source": [
    "# number of edges/hyperlinks \n",
    "print(\"The number of hyperlinks (edges) are\", len(graph.edges))"
   ]
  },
  {
   "cell_type": "code",
   "execution_count": 160,
   "metadata": {},
   "outputs": [
    {
     "name": "stdout",
     "output_type": "stream",
     "text": [
      "The average number of incoming links in an arbitrary page is 9.82\n",
      "The minimum number of incoming links is 1 and the maximum is 10832\n"
     ]
    }
   ],
   "source": [
    "# average number of degree: incoming links\n",
    "print(\"The average number of incoming links in an arbitrary page is\",\\\n",
    "      round(np.mean(list(dict(graph.degree).values())), 2))\n",
    "print(\"The minimum number of incoming links is\", min(dict(graph.degree).values()),\\\n",
    "     \"and the maximum is\", max(dict(graph.degree).values()))"
   ]
  },
  {
   "cell_type": "code",
   "execution_count": 165,
   "metadata": {},
   "outputs": [
    {
     "name": "stdout",
     "output_type": "stream",
     "text": [
      "The average number of outgoing links in an arbitrary page is 5.31\n",
      "The minimum number of outgoing links is 1 and the maximum is 1367\n"
     ]
    }
   ],
   "source": [
    "# count the outgoing links\n",
    "outgoing_links = defaultdict(int)\n",
    "for edge in graph.edges:\n",
    "    outgoing_links[edge[0]] += 1\n",
    "\n",
    "# print average\n",
    "print(\"The average number of outgoing links in an arbitrary page is\",\\\n",
    "      round(np.mean(list(outgoing_links.values())), 2))\n",
    "print(\"The minimum number of outgoing links is\", min(outgoing_links.values()),\\\n",
    "     \"and the maximum is\", max(outgoing_links.values()))"
   ]
  },
  {
   "cell_type": "code",
   "execution_count": 104,
   "metadata": {},
   "outputs": [
    {
     "name": "stdout",
     "output_type": "stream",
     "text": [
      "The density of graph is 5e-05\n"
     ]
    }
   ],
   "source": [
    "# density of graph\n",
    "print(\"The density of graph is\", round(len(graph.edges)/(len(graph.nodes)*(len(graph.nodes)-1)), 5))"
   ]
  },
  {
   "cell_type": "markdown",
   "metadata": {},
   "source": [
    "To evaluate the density result we can match the our result with the result of built-in function of networkx"
   ]
  },
  {
   "cell_type": "code",
   "execution_count": 107,
   "metadata": {},
   "outputs": [
    {
     "name": "stdout",
     "output_type": "stream",
     "text": [
      "Its value is 5e-05\n"
     ]
    }
   ],
   "source": [
    "print(\"Its value is\", round(nx.density(graph), 5))"
   ]
  },
  {
   "cell_type": "code",
   "execution_count": 175,
   "metadata": {
    "scrolled": true
   },
   "outputs": [
    {
     "data": {
      "text/plain": [
       "[<matplotlib.lines.Line2D at 0x1f28f03bf70>]"
      ]
     },
     "execution_count": 175,
     "metadata": {},
     "output_type": "execute_result"
    },
    {
     "data": {
      "image/png": "[encoded data removed]",
      "text/plain": [
       "<Figure size 1296x720 with 1 Axes>"
      ]
     },
     "metadata": {
      "needs_background": "light"
     },
     "output_type": "display_data"
    }
   ],
   "source": [
    "# degree distrubution\n",
    "plt.figure(figsize=(18,10))\n",
    "plt.title(\"Degree distribution\", fontsize=20)\n",
    "plt.xlabel('Node', fontsize=16)\n",
    "plt.ylabel('Degree', fontsize=16, rotation=360)\n",
    "plt.plot(list(dict(graph.degree).values()))"
   ]
  },
  {
   "cell_type": "markdown",
   "metadata": {},
   "source": [
    "## RQ2\n",
    "\n",
    "The function __exploring__ take in input a page _v_ and a number of clcks _d_ and return a set of pages that user can reach in _d_ clicks from _v_"
   ]
  },
  {
   "cell_type": "code",
   "execution_count": 333,
   "metadata": {},
   "outputs": [],
   "source": [
    "# function to explore graph\n",
    "def exploring(v, d):\n",
    "    p = inverted_page_names[v]\n",
    "    indices = support_exploring(p, d, set())\n",
    "    return { page_names[i] for i in indices }\n",
    "\n",
    "# support function for returning values\n",
    "def support_exploring(v, d, r):\n",
    "    # v: page\n",
    "    # d: number of clicks\n",
    "    # g: input graph\n",
    "    # r: return value\n",
    "    if d == 0:\n",
    "        return r\n",
    "    for n in graph.neighbors(v):\n",
    "        return support_exploring(n, d-1, r|{v})"
   ]
  },
  {
   "cell_type": "markdown",
   "metadata": {},
   "source": [
    "In the next cell there is a sample of function execution, with inputs:\n",
    "- page: \"Marty O'Brien\"\n",
    "- number of clicks: 3"
   ]
  },
  {
   "cell_type": "code",
   "execution_count": 340,
   "metadata": {},
   "outputs": [
    {
     "data": {
      "text/plain": [
       "{'22nd Century Lifestyle', \"Marty O'Brien\", 'This Way (Hana Pestle album)'}"
      ]
     },
     "execution_count": 340,
     "metadata": {},
     "output_type": "execute_result"
    }
   ],
   "source": [
    "exploring('This Way (Hana Pestle album)', 3)"
   ]
  },
  {
   "cell_type": "markdown",
   "metadata": {},
   "source": [
    "## RQ3"
   ]
  },
  {
   "cell_type": "markdown",
   "metadata": {},
   "source": [
    "Support function for solving RQ3"
   ]
  },
  {
   "cell_type": "code",
   "execution_count": null,
   "metadata": {},
   "outputs": [],
   "source": [
    "# Find the cenatral page in a category\n",
    "def central_article(c):\n",
    "    # c: category\n",
    "    v = None\n",
    "    d = 0\n",
    "    degree = dict(graph.degree)\n",
    "    for node in categories[c]:\n",
    "        try:\n",
    "            if degree[node] >= d:\n",
    "                v = node\n",
    "                d = degree[node]\n",
    "        except:\n",
    "            pass\n",
    "    return v"
   ]
  },
  {
   "cell_type": "markdown",
   "metadata": {},
   "source": [
    "Function to calculate distance between two nodes (pages) in network"
   ]
  },
  {
   "cell_type": "code",
   "execution_count": 317,
   "metadata": {},
   "outputs": [],
   "source": [
    "# Breadth First Search\n",
    "def BFS(n, g):\n",
    "    # n: starting node to improve search\n",
    "    # g: node goal\n",
    "    frontier = Queue()\n",
    "    visited = set()\n",
    "    front_set = set()\n",
    "    front_set.add(n)\n",
    "    frontier.put(n)\n",
    "    cost = 0\n",
    "    while True:\n",
    "        if frontier.empty():\n",
    "            return \"Not possible\"\n",
    "        node = frontier.get()\n",
    "        front_set.remove(node)\n",
    "        visited.add(node)\n",
    "        if node == g:\n",
    "            return cost\n",
    "        cost += 1\n",
    "        for son in graph.neighbors(node):\n",
    "            if son not in visited and son not in front_set:\n",
    "                frontier.put(son)\n",
    "                front_set.add(son)"
   ]
  },
  {
   "cell_type": "markdown",
   "metadata": {},
   "source": [
    "Function __explore_category__ returns the minimum number of clicks required to reach all pages in _p_, starting from the page _v_, corresponding to the most central article, according to the in-degree centrality, in category _c_"
   ]
  },
  {
   "cell_type": "code",
   "execution_count": 437,
   "metadata": {},
   "outputs": [],
   "source": [
    "def explore_category(c, p):\n",
    "    # c: category\n",
    "    # p: set of pages in c\n",
    "    v = central_article(c)\n",
    "    pages = { inverted_page_names[name] for name in p }\n",
    "    m = 0\n",
    "    for page in pages:\n",
    "        n = BFS(v, page) # minimum number of clicks\n",
    "        if type(n) is int:\n",
    "            m = max(m, n)\n",
    "        else:\n",
    "            return n\n",
    "    return m"
   ]
  },
  {
   "cell_type": "markdown",
   "metadata": {},
   "source": [
    "Test function with an input"
   ]
  },
  {
   "cell_type": "code",
   "execution_count": 486,
   "metadata": {},
   "outputs": [
    {
     "data": {
      "text/plain": [
       "'Not possible'"
      ]
     },
     "execution_count": 486,
     "metadata": {},
     "output_type": "execute_result"
    }
   ],
   "source": [
    "c = 'Main Belt asteroids'\n",
    "\n",
    "p = { page_names[i] for i in categories[c] }\n",
    "\n",
    "explore_category(c, p)"
   ]
  },
  {
   "cell_type": "code",
   "execution_count": null,
   "metadata": {},
   "outputs": [],
   "source": []
  }
 ],
 "metadata": {
  "kernelspec": {
   "display_name": "Python 3",
   "language": "python",
   "name": "python3"
  },
  "language_info": {
   "codemirror_mode": {
    "name": "ipython",
    "version": 3
   },
   "file_extension": ".py",
   "mimetype": "text/x-python",
   "name": "python",
   "nbconvert_exporter": "python",
   "pygments_lexer": "ipython3",
   "version": "3.8.3"
  }
 },
 "nbformat": 4,
 "nbformat_minor": 4
}
